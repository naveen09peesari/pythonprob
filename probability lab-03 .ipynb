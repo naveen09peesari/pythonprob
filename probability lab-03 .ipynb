{
  "nbformat": 4,
  "nbformat_minor": 0,
  "metadata": {
    "colab": {
      "provenance": [],
      "authorship_tag": "ABX9TyPtxEPSGDdAn+B0Zhs283Tm",
      "include_colab_link": true
    },
    "kernelspec": {
      "name": "python3",
      "display_name": "Python 3"
    },
    "language_info": {
      "name": "python"
    }
  },
  "cells": [
    {
      "cell_type": "markdown",
      "metadata": {
        "id": "view-in-github",
        "colab_type": "text"
      },
      "source": [
        "<a href=\"https://colab.research.google.com/github/naveen09peesari/pythonprob/blob/main/probability%20lab-03%20.ipynb\" target=\"_parent\"><img src=\"https://colab.research.google.com/assets/colab-badge.svg\" alt=\"Open In Colab\"/></a>"
      ]
    },
    {
      "cell_type": "code",
      "source": [
        "import numpy as np\n",
        "import pandas as pd\n",
        "data = [35, 45, 40, 60, 55, 50, 65, 70, 60, 75, 50, 55, 45,\n",
        "40, 50]\n",
        "median_numpy = np.median(data)\n",
        "print(median_numpy )\n",
        "mode_numpy = np.unique(data, return_counts=True)\n",
        "mode_pandas = pd.Series(data).mode()[0]\n",
        "median_pandas = pd.Series(data).median()\n",
        "print(mode_pandas)\n",
        "print(median_pandas)"
      ],
      "metadata": {
        "colab": {
          "base_uri": "https://localhost:8080/"
        },
        "id": "m1MDhCMsU-IR",
        "outputId": "02ac6f82-ba6f-45d1-b99f-a2d573ac0b36"
      },
      "execution_count": 12,
      "outputs": [
        {
          "output_type": "stream",
          "name": "stdout",
          "text": [
            "50.0\n",
            "50\n",
            "50.0\n"
          ]
        }
      ]
    },
    {
      "cell_type": "code",
      "source": [
        "import numpy as np\n",
        "import pandas as pd\n",
        "score = [10, 20, 30, 40, 50]\n",
        "freq = [5, 8, 12, 15, 7]\n",
        "df = pd.DataFrame({'Data': score, 'Frequency': freq})\n",
        "expanded_data = np.repeat(df['Data'], df['Frequency'])\n",
        "median = np.median(expanded_data)\n",
        "mode = score[np.argmax(freq)]\n",
        "print(\"Median:\", median)\n",
        "print(\"Mode:\", mode)"
      ],
      "metadata": {
        "colab": {
          "base_uri": "https://localhost:8080/"
        },
        "id": "QnQG3nWsYXMi",
        "outputId": "3c3f1779-590f-4d0a-935c-740ce7ac2eb9"
      },
      "execution_count": 22,
      "outputs": [
        {
          "output_type": "stream",
          "name": "stdout",
          "text": [
            "Median: 30.0\n",
            "Mode: 40\n"
          ]
        }
      ]
    },
    {
      "cell_type": "code",
      "source": [
        "import pandas as pd\n",
        "\n",
        "scores = [10, 20, 30, 40, 50]\n",
        "frequencies = [5, 8, 12, 15, 7]\n",
        "\n",
        "data = np.repeat(scores, frequencies)\n",
        "\n",
        "mode_value = pd.Series(data).mode()[0]\n",
        "\n",
        "print(\"Mode:\", mode_value)"
      ],
      "metadata": {
        "colab": {
          "base_uri": "https://localhost:8080/"
        },
        "id": "1DFcszwvcT3y",
        "outputId": "538b9de8-3d58-43ab-a49a-85473572c21b"
      },
      "execution_count": 23,
      "outputs": [
        {
          "output_type": "stream",
          "name": "stdout",
          "text": [
            "Mode: 40\n"
          ]
        }
      ]
    },
    {
      "cell_type": "markdown",
      "source": [],
      "metadata": {
        "id": "yc8ZznBid6O6"
      }
    },
    {
      "cell_type": "markdown",
      "source": [],
      "metadata": {
        "id": "E0X5ss1pd65p"
      }
    },
    {
      "cell_type": "code",
      "source": [
        "\n",
        "class_intervals = [(0, 10), (10, 20), (20, 30), (30, 40), (40, 50)]\n",
        "frequencies_intervals = [4, 6, 10, 8, 2]\n",
        "midpoints = np.array([(a + b) / 2 for a, b in class_intervals])\n",
        "cumulative_frequencies_intervals = np.cumsum(frequencies_intervals)\n",
        "total_frequency_intervals = cumulative_frequencies_intervals[-1]\n",
        "median_class_index = np.searchsorted(cumulative_frequencies_intervals, total_frequency_intervals / 2)\n",
        "L_median = class_intervals[median_class_index][0]\n",
        "F_median = cumulative_frequencies_intervals[median_class_index - 1] if median_class_index > 0 else 0\n",
        "f_median = frequencies_intervals[median_class_index]\n",
        "h_median = class_intervals[0][1] - class_intervals[0][0]\n",
        "median_intervals = L_median + ((total_frequency_intervals / 2 - F_median) / f_median) * h_median\n",
        "mode_class_index = np.argmax(frequencies_intervals)\n",
        "L_mode = class_intervals[mode_class_index][0]\n",
        "f1 = frequencies_intervals[mode_class_index]\n",
        "f0 = frequencies_intervals[mode_class_index - 1] if mode_class_index > 0 else 0\n",
        "f2 = frequencies_intervals[mode_class_index + 1] if mode_class_index + 1 < len(frequencies_intervals) else 0\n",
        "mode_intervals = L_mode + ((f1 - f0) / ((2 * f1) - f0 - f2)) * h_median\n",
        "print(f\"Median: {median_intervals}\")\n",
        "print(f\"Mode: {mode_intervals}\")"
      ],
      "metadata": {
        "colab": {
          "base_uri": "https://localhost:8080/"
        },
        "id": "PBREOuZrdUk7",
        "outputId": "01658ab9-ee33-407e-b364-896161bdfc12"
      },
      "execution_count": 26,
      "outputs": [
        {
          "output_type": "stream",
          "name": "stdout",
          "text": [
            "Median: 25.0\n",
            "Mode: 26.666666666666664\n"
          ]
        }
      ]
    }
  ]
}